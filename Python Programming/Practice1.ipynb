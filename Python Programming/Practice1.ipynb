{
  "nbformat": 4,
  "nbformat_minor": 0,
  "metadata": {
    "colab": {
      "provenance": []
    },
    "kernelspec": {
      "name": "python3",
      "display_name": "Python 3"
    },
    "language_info": {
      "name": "python"
    }
  },
  "cells": [
    {
      "cell_type": "code",
      "source": [
        "import numpy as np"
      ],
      "metadata": {
        "id": "qF9s1_fz7c3r"
      },
      "execution_count": null,
      "outputs": []
    },
    {
      "cell_type": "code",
      "source": [
        "Xs = [\n",
        "  [\n",
        "    [11,-5,-5],\n",
        "    [-3,5,3],\n",
        "    [1,1,-4]\n",
        "  ],\n",
        "  [\n",
        "    [11, 3, 3, 3],\n",
        "    [3, -10,-1, -4],\n",
        "    [1, -1, -4, 1],\n",
        "   [-2, -2, -2, 9]\n",
        "  ],\n",
        "  [\n",
        "    [5,2,-1],\n",
        "    [5,10,-1],\n",
        "    [3,2,9]\n",
        "  ],\n",
        "  [\n",
        "    [1,0,1],\n",
        "    [2,0,2],\n",
        "    [-3,-3,0]\n",
        "  ],\n",
        "  [\n",
        "    [-10, 1, -2, 6],\n",
        "    [-2, 18,-6, 6],\n",
        "    [1, 3, -5, 0],\n",
        "    [0, 0, -4, 9]\n",
        "  ],\n",
        "]\n",
        "\n",
        "Ys=[\n",
        "   [10,12, 3],\n",
        "   [1, 2, 3, 5],\n",
        "   [1, 4, 5],\n",
        "   [5, 5, 5],\n",
        "   [6, 7, 7, 18],\n",
        "]\n"
      ],
      "metadata": {
        "id": "s2JcG22g7kBu"
      },
      "execution_count": null,
      "outputs": []
    },
    {
      "cell_type": "code",
      "execution_count": null,
      "metadata": {
        "colab": {
          "base_uri": "https://localhost:8080/"
        },
        "id": "38jQzqCR4o_q",
        "outputId": "e10095a2-f89f-486d-cb96-b8b400585e17"
      },
      "outputs": [
        {
          "output_type": "stream",
          "name": "stdout",
          "text": [
            "A: [[11, -5, -5], [-3, 5, 3], [1, 1, -4]]y: [10, 12, 3]\n",
            "Not Diagonally Dominant!\n",
            "\n",
            "\n",
            "A: [[11, 3, 3, 3], [3, -10, -1, -4], [1, -1, -4, 1], [-2, -2, -2, 9]]y: [1, 2, 3, 5]\n",
            "iter: 1| X1 =  0.09090909 X2 = -0.17272727 X3 = -0.68409091 X4 =  0.38535354\n",
            "iter: 2| X1 =  0.21949036 X2 = -0.21988522 X3 = -0.54381772 X4 =  0.43461943\n",
            "iter: 3| X1 =  0.18065914 X2 = -0.26526826 X3 = -0.52986329 X4 =  0.41900613\n",
            "convergent\n",
            "\n",
            "\n",
            "A: [[5, 2, -1], [5, 10, -1], [3, 2, 9]]y: [1, 4, 5]\n",
            "iter: 1| X1 =  0.20000000 X2 =  0.30000000 X3 =  0.42222222\n",
            "iter: 2| X1 =  0.16444444 X2 =  0.36000000 X3 =  0.42074074\n",
            "convergent\n",
            "\n",
            "\n",
            "A: [[1, 0, 1], [2, 0, 2], [-3, -3, 0]]y: [5, 5, 5]\n",
            "Not Diagonally Dominant!\n",
            "\n",
            "\n",
            "A: [[-10, 1, -2, 6], [-2, 18, -6, 6], [1, 3, -5, 0], [0, 0, -4, 9]]y: [6, 7, 7, 18]\n",
            "iter: 1| X1 = -0.60000000 X2 =  0.32222222 X3 = -1.32666667 X4 =  1.41037037\n",
            "iter: 2| X1 =  0.54377778 X2 = -0.46303704 X3 = -1.56906667 X4 =  1.30263704\n",
            "iter: 3| X1 =  0.44909185 X2 = -0.51844658 X3 = -1.62124958 X4 =  1.27944463\n",
            "iter: 4| X1 =  0.44007204 X2 = -0.52911229 X3 = -1.62945297 X4 =  1.27579868\n",
            "convergent\n",
            "\n",
            "\n"
          ]
        }
      ],
      "source": [
        "#SOAL 1\n",
        "\n",
        "def checkDD(matrix):\n",
        "  x = np.array(matrix)\n",
        "  diag = np.diag(np.abs(x))\n",
        "  sumWithoutDiag = np.sum(np.abs(x), 1) - diag\n",
        "\n",
        "  if np.all(diag > sumWithoutDiag):\n",
        "    return True\n",
        "  else:\n",
        "    return False\n",
        "\n",
        "\n",
        "def getMatrix(a, b):\n",
        "  a = np.array(a)\n",
        "  b = np.array(b)\n",
        "  \n",
        "  print(\"A:\", a)\n",
        "  print(\"y:\",b)\n",
        "\n",
        "def gaussSeidel(a, b):\n",
        "  a = np.array(a)\n",
        "  b = np.array(b)\n",
        "\n",
        "  diag = np.diag(a)\n",
        "  a = -a\n",
        "  np.fill_diagonal(a, 0)\n",
        "  oldVal = np.zeros(a.shape[0])\n",
        "\n",
        "  for i in range(20):\n",
        "    newVal = np.array(oldVal)\n",
        "\n",
        "    for j, el in enumerate(a):\n",
        "      newVal[j] = (b[j] + np.dot(el, newVal)) / diag[j]\n",
        "    \n",
        "    print(f'iter: {i+1}|', end='')\n",
        "    for j, el in enumerate(newVal):\n",
        "      print(f' X{j+1} = {el: .8f}', end='')\n",
        "    \n",
        "    print()\n",
        "    dist = np.sqrt(np.dot(newVal-oldVal, newVal-oldVal))\n",
        "    oldVal = newVal \n",
        "    if dist < 0.075:\n",
        "      print('convergent')\n",
        "      return\n",
        "  print(\"not converged\")\n",
        "  return\n",
        "\n",
        "  \n",
        "for i, (a,b) in enumerate(zip(Xs, Ys)):\n",
        "  print(\"A:\", a, end='')\n",
        "  print(\"y:\", b)\n",
        "  if(checkDD(a)):\n",
        "    gaussSeidel(a, b)\n",
        "  else:\n",
        "    print(\"Not Diagonally Dominant!\")\n",
        "  \n",
        "  print()\n",
        "  print()"
      ]
    },
    {
      "cell_type": "code",
      "source": [
        "# SOAL 2\n",
        "\n"
      ],
      "metadata": {
        "id": "3G3NDRX-a0fi"
      },
      "execution_count": null,
      "outputs": []
    },
    {
      "cell_type": "code",
      "source": [
        "#SOAL 3\n",
        "import matplotlib.pyplot as plt\n",
        "\n",
        "lx = [0.0, 1.0204081632653061, 2.0408163265306123, 3.0612244897959187, 4.081632653061225, 5.1020408163265305, 6.122448979591837, 7.142857142857143, 8.16326530612245, 9.183673469387756, 10.204081632653061, 11.224489795918368, 12.244897959183675, 13.26530612244898, 14.285714285714286, 15.306122448979592, 16.3265306122449, 17.346938775510203, 18.367346938775512, 19.387755102040817, 20.408163265306122, 21.42857142857143, 22.448979591836736, 23.46938775510204, 24.48979591836735, 25.510204081632654, 26.53061224489796, 27.551020408163264, 28.571428571428573, 29.591836734693878, 30.612244897959183, 31.63265306122449, 32.6530612244898, 33.673469387755105, 34.69387755102041, 35.714285714285715, 36.734693877551024, 37.755102040816325, 38.775510204081634, 39.79591836734694, 40.816326530612244, 41.83673469387755, 42.85714285714286, 43.87755102040816, 44.89795918367347, 45.91836734693878, 46.93877551020408, 47.95918367346939, 48.9795918367347, 50.0, 51.02040816326531, 52.04081632653061, 53.06122448979592, 54.08163265306123, 55.10204081632653, 56.12244897959184, 57.142857142857146, 58.16326530612245, 59.183673469387756, 60.204081632653065, 61.224489795918366, 62.244897959183675, 63.26530612244898, 64.28571428571429, 65.3061224489796, 66.3265306122449, 67.34693877551021, 68.36734693877551, 69.38775510204081, 70.40816326530613, 71.42857142857143, 72.44897959183673, 73.46938775510205, 74.48979591836735, 75.51020408163265, 76.53061224489797, 77.55102040816327, 78.57142857142857, 79.59183673469389, 80.61224489795919, 81.63265306122449, 82.6530612244898, 83.6734693877551, 84.6938775510204, 85.71428571428572, 86.73469387755102, 87.75510204081633, 88.77551020408164, 89.79591836734694, 90.81632653061224, 91.83673469387756, 92.85714285714286, 93.87755102040816, 94.89795918367348, 95.91836734693878, 96.93877551020408, 97.9591836734694, 98.9795918367347, 100.0 ]\n",
        "ly = [2.5, 3.55933621307185, 4.167412839663745, 5.4870429722510465, 11.142581417725042, 7.86148658509595, 8.401972333006611, 9.828467992887417, 31.307057919750108, 14.487456356941825, 22.83319024035356, 16.400329097580506, 21.479034784206526, 19.985882140432505, 20.641090566349014, 37.77579586787783, 123.8863753193097, 41.333316478014936, 33.062505624041606, 46.35459313128166, 58.55815336573507, 61.261072664917435, 46.82432197717539, 48.21441358359897, 182.12067628517886, 39.13249458832681, 31.583087596792414, 75.52415810170419, 66.61047739001538, 51.0430965557856, 68.85237329741663, 76.76403952069636, 231.26487535807007, 100.29746838907609, 87.06014111146378, 90.84702129315832, 40.110883802399634, 46.94383929303173, 102.89860145731792, 61.968940434607546, 275.7836188531819, 81.72897168265717, 126.118835003378, 99.09772282551512, 50.647759281016334, 94.15195434765812, 104.92396451650399, 94.84934261790684, 194.65028586201996, 78.2667123528214, 103.61878662128069, 153.15477636422182, 147.92798294510132, 123.04102628923025, 106.81695335647566, 117.30947892491095, 216.63314041658765, 86.90563312921432, 124.97528489360292, 133.75961920461032, 155.14889047967364, 83.5041208350217, 189.70133039750226, 92.96066205804652, 355.4721804696095, 195.32902713953325, 199.05661898973221, 88.79516734635648, 193.5448921901416, 97.80723503682843, 110.001847510363, 204.6384599076647, 277.1647078716958, 107.66417975691705, 201.3472744993193, 172.5237857707939, 220.6940440988812, 194.45510831830995, 180.93229922697998, 118.82298788840303, 256.78361102914084, 139.58042767421273, 163.39374150736262, 150.325059539888, 172.209777077264, 134.01352766339596, 187.70564794009925, 150.9738004458431, 596.8564687997193, 222.81575803765577, 230.88151547263456, 191.36747694040469, 282.41831583842986, 204.51294576497344, 112.69991840587676, 107.92028976277088, 623.1850452707149, 156.3375556275594, 274.4347728556563 ]\n",
        "\n",
        "lx = np.array(lx)\n",
        "ly = np.array(ly)\n",
        "\n",
        "# A = np.vstack([x, np.ones(len(x))]).T\n",
        "# Y = np.vstack(y)\n",
        "\n",
        "\n",
        "\n",
        "m = 2.4604672316648633\n",
        "c = 1.852571637762729\n",
        "\n",
        "y = m * lx + c\n",
        "plt.figure(figsize = (12, 8))\n",
        "plt.plot(lx, ly, 'bo', label = \"x y coordinates\")\n",
        "plt.plot(lx, y, '-r', label = \"Least Square Regression\")\n",
        "plt.xlabel('X')\n",
        "plt.ylabel('Y')\n",
        "plt.legend(loc=\"upper left\")\n",
        "plt.show()\n",
        "\n"
      ],
      "metadata": {
        "colab": {
          "base_uri": "https://localhost:8080/",
          "height": 445
        },
        "id": "hVXOmHu4Doo9",
        "outputId": "a7de1c64-4d46-4008-f015-a2873cf6e6da"
      },
      "execution_count": null,
      "outputs": [
        {
          "output_type": "display_data",
          "data": {
            "text/plain": [
              "<Figure size 864x576 with 1 Axes>"
            ],
            "image/png": "[encoded data removed]"
          },
          "metadata": {
            "needs_background": "light"
          }
        }
      ]
    }
  ]
}