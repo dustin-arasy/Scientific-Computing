{
  "nbformat": 4,
  "nbformat_minor": 0,
  "metadata": {
    "colab": {
      "provenance": []
    },
    "kernelspec": {
      "name": "python3",
      "display_name": "Python 3"
    },
    "language_info": {
      "name": "python"
    }
  },
  "cells": [
    {
      "cell_type": "code",
      "source": [
        "import numpy as np"
      ],
      "metadata": {
        "id": "xnvqFOFjhubN"
      },
      "execution_count": null,
      "outputs": []
    },
    {
      "cell_type": "code",
      "execution_count": null,
      "metadata": {
        "colab": {
          "base_uri": "https://localhost:8080/"
        },
        "id": "sQirbvJca4ob",
        "outputId": "e236e614-1d2b-40d2-d715-8a86e9d09e5a"
      },
      "outputs": [
        {
          "output_type": "stream",
          "name": "stdout",
          "text": [
            "Iteration-1, new root = 1.981481\n",
            "Iteration-2, new root = 1.278539\n",
            "Iteration-3, new root = 0.750401\n",
            "Iteration-4, new root = 0.204288\n",
            "Iteration-5, new root = -3.857405\n",
            "Iteration-6, new root = -2.582804\n",
            "Iteration-7, new root = -1.746854\n",
            "Iteration-8, new root = -1.219187\n",
            "Iteration-9, new root = -0.924918\n",
            "Iteration-10, new root = -0.811436\n",
            "Iteration-11, new root = -0.794085\n",
            "Iteration-12, new root = -0.793701\n",
            "\n",
            "The root of the equation is: -0.79370071 None\n"
          ]
        }
      ],
      "source": [
        "#SOAL 1\n",
        "\n",
        "from sympy import *\n",
        "\n",
        "x = symbols('x')\n",
        "f1 = lambda x: 4*x**3 + 2\n",
        "df1 = diff(f1(x), x)\n",
        "df1 = lambdify(x, df1, 'numpy')\n",
        "\n",
        "\n",
        "def newton_raphson(f, df, x0, tolerance, max, iter):\n",
        "\n",
        "  if np.abs(f(x0)) < tolerance:\n",
        "     print(f'The root of the equation is: {x0:.8f}', print())\n",
        "  else:\n",
        "    xNew = x0 - (f(x0)/ df(x0))\n",
        "    print(f'Iteration-{iter},', end='')\n",
        "    print(f' new root = {xNew:.6f}')\n",
        "    return newton_raphson(f, df, xNew, tolerance, max-1, iter+1)\n",
        "\n",
        "\n",
        "newton_raphson(f1, df1, 3, 0.001, 30, 1)"
      ]
    },
    {
      "cell_type": "code",
      "source": [
        "#SOAL 3\n",
        "\n",
        "def f(x):\n",
        "  return x**3 + 2*x**2 - x - 2"
      ],
      "metadata": {
        "id": "RRYX6BeotA_g"
      },
      "execution_count": null,
      "outputs": []
    },
    {
      "cell_type": "code",
      "source": [
        "a = 1\n",
        "b = 4\n",
        "n = 23\n",
        "\n",
        "boxWidth = (b-a)/(n-1)\n",
        "\n",
        "x = np.linspace(a, b, n)\n",
        "\n",
        "xLeft = x[ :-1]\n",
        "\n",
        "yLeft = f(xLeft)\n",
        "\n",
        "#Left Riemann\n",
        "leftRiemann = boxWidth * np.sum(np.abs(yLeft))\n",
        "print(\"Left Riemann:\", leftRiemann)\n",
        "\n",
        "#Right Riemann\n",
        "xRight = x[1:]\n",
        "yRight = f(xRight)\n",
        "rightRiemann = boxWidth * np.sum(np.abs(yRight))\n",
        "print(\"Right Riemann:\", rightRiemann)\n",
        "\n",
        "#Mid Riemann\n",
        "xMid = (xLeft + xRight)/2\n",
        "yMid = f(xMid)\n",
        "midRiemann = boxWidth * np.sum(np.abs(yMid))\n",
        "print(\"Mid Point Riemann:\", midRiemann)\n",
        "\n",
        "#Trapezoid\n",
        "trapezoid = np.sum(np.abs(yLeft) + np.abs(yRight))/2 * boxWidth\n",
        "print(\"Trapezoid:\", trapezoid)"
      ],
      "metadata": {
        "colab": {
          "base_uri": "https://localhost:8080/"
        },
        "id": "hLYvmWPJnTaM",
        "outputId": "61bb9f3a-b05f-427e-bcf4-bb1a809d64bb"
      },
      "execution_count": null,
      "outputs": [
        {
          "output_type": "stream",
          "name": "stdout",
          "text": [
            "Left Riemann: 86.20196280991733\n",
            "Right Riemann: 98.4746900826446\n",
            "Mid Point Riemann: 92.20583677685948\n",
            "Trapezoid: 92.33832644628099\n"
          ]
        }
      ]
    }
  ]
}