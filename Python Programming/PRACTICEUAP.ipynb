{
  "nbformat": 4,
  "nbformat_minor": 0,
  "metadata": {
    "colab": {
      "provenance": []
    },
    "kernelspec": {
      "name": "python3",
      "display_name": "Python 3"
    },
    "language_info": {
      "name": "python"
    }
  },
  "cells": [
    {
      "cell_type": "code",
      "execution_count": null,
      "metadata": {
        "id": "zHAM-JP6tojl"
      },
      "outputs": [],
      "source": [
        "import numpy as np\n",
        "import matplotlib.pyplot as plt"
      ]
    },
    {
      "cell_type": "code",
      "source": [
        "mX = [\n",
        "        [\n",
        "            [10, 2, -6],\n",
        "            [-1, 4, 2],\n",
        "            [2, 3, 6]\n",
        "        ],\n",
        "        [\n",
        "            [-5, 2, -8],\n",
        "            [4, -3, -9],\n",
        "            [-8, -10, 9]\n",
        "        ],\n",
        "        [\n",
        "            [10, -5, 3, 0],\n",
        "            [3, -9, 2, -2],\n",
        "            [-8, 0, 17, -4],\n",
        "            [3, -3, -8, -15]\n",
        "        ],\n",
        "]\n",
        "\n",
        "mY = [\n",
        "    [17, -4, -12],\n",
        "    [13, -7, -2],\n",
        "    [9, 10, -10, -18]\n",
        "]"
      ],
      "metadata": {
        "id": "e2cAc6aNtx33"
      },
      "execution_count": null,
      "outputs": []
    },
    {
      "cell_type": "code",
      "source": [
        "#SOAL 1\n",
        "#DIAGONALLY DOMINANT\n",
        "\n",
        "def checkDD(matrix):\n",
        "  x = np.array(matrix)\n",
        "  diag = np.diag(np.abs(x))\n",
        "  sumWithoutDiag = np.sum(np.abs(x), 1) - diag\n",
        "\n",
        "\n",
        "  if np.all(diag > sumWithoutDiag):\n",
        "    return True\n",
        "  else:\n",
        "    return False\n",
        "  \n",
        "for i,(x) in enumerate ((mX)):\n",
        "  if (checkDD(x)):\n",
        "    print(\"DIagonall\")\n",
        "  else:\n",
        "    print(\"Not diagonall\")"
      ],
      "metadata": {
        "id": "xwVK-xYUz_TH",
        "colab": {
          "base_uri": "https://localhost:8080/"
        },
        "outputId": "c2a31a64-488c-42e0-849a-b5679d5a1162"
      },
      "execution_count": null,
      "outputs": [
        {
          "output_type": "stream",
          "name": "stdout",
          "text": [
            "DIagonall\n",
            "Not diagonall\n",
            "DIagonall\n"
          ]
        }
      ]
    },
    {
      "cell_type": "code",
      "source": [
        "# SOAL 2\n",
        "\n",
        "def DiagonallyDominant(matrix):\n",
        "  x = np.array(matrix)\n",
        "  diag = np.diag(np.abs(x))\n",
        "  sumWithoutDiag = np.sum(np.abs(x), 1) - diag\n",
        "\n",
        "  if np.all(diag > sumWithoutDiag):\n",
        "    return True\n",
        "  else:\n",
        "    return False"
      ],
      "metadata": {
        "id": "2GcjzYpEtqkk"
      },
      "execution_count": null,
      "outputs": []
    },
    {
      "cell_type": "code",
      "source": [
        "def getEquation(a, b):\n",
        "  a = np.array(a)\n",
        "  b = np.array(b)\n",
        "\n",
        "  diag = np.diag(a)\n",
        "  a = -a\n",
        "\n",
        "  for i, el in enumerate(a):\n",
        "    print(f'X{i} = ({b[i]})', end='')\n",
        "    for j, el2 in enumerate(el):\n",
        "      if i!=j:\n",
        "        print(f' + ({el2}X{j+1})', end='')\n",
        "    \n",
        "    print(f' ) / {diag[i]}')"
      ],
      "metadata": {
        "id": "hXac6EF-y1Bm"
      },
      "execution_count": null,
      "outputs": []
    },
    {
      "cell_type": "code",
      "source": [
        "def gaussSeidel(a, b):\n",
        "  a = np.array(a)\n",
        "  b = np.array(b)\n",
        "\n",
        "  diag = np.diag(a)\n",
        "  a = -a\n",
        "  np.fill_diagonal(a, 0)\n",
        "  oldVal = np.zeros(a.shape[0])\n",
        "\n",
        "  for i in range(5):\n",
        "    newVal = np.array(oldVal)\n",
        "\n",
        "    for j, el in enumerate(a):\n",
        "      newVal[j] = (b[j] + np.dot(el, newVal)) / diag[j]\n",
        "    \n",
        "    print(f'iteration: {i+1}|', end='')\n",
        "    for j, el in enumerate(newVal):\n",
        "      print(f' X{j+1} = {el: .8f}', end='')\n",
        "    \n",
        "    print()\n",
        "    dist = np.sqrt(np.dot(newVal-oldVal, newVal-oldVal))\n",
        "    oldVal = newVal \n",
        "    if dist < 0.01456:\n",
        "      print('Converged!')\n",
        "      print('Result:')\n",
        "      print(f'X1 = {newVal[0]}')\n",
        "      print(f'X2 = {newVal[1]}')\n",
        "      print(f'X1 = {newVal[2]}')\n",
        "      return\n",
        "  print(\"Not Converged\")\n",
        "  return"
      ],
      "metadata": {
        "id": "8RVLcDnX0fua"
      },
      "execution_count": null,
      "outputs": []
    },
    {
      "cell_type": "code",
      "source": [
        "for i, (x,y) in enumerate(zip(mX, mY)):\n",
        "  print('=============================')\n",
        "  print(f'Equation {i+1}')\n",
        "  if(DiagonallyDominant(x)):\n",
        "    print(\"Diagonally Dominant\")\n",
        "    # getEquation(x,y)\n",
        "    gaussSeidel(x, y)\n",
        "  else:\n",
        "    print(\"Not Diagonally Dominant\")\n",
        "  print()"
      ],
      "metadata": {
        "colab": {
          "base_uri": "https://localhost:8080/"
        },
        "id": "F9HHywwGuSRj",
        "outputId": "76b6463d-bf7e-4234-d2a3-49baead3f25b"
      },
      "execution_count": null,
      "outputs": [
        {
          "output_type": "stream",
          "name": "stdout",
          "text": [
            "=============================\n",
            "Equation 1\n",
            "Diagonally Dominant\n",
            "iteration: 1| X1 =  1.70000000 X2 = -0.57500000 X3 = -2.27916667\n",
            "iteration: 2| X1 =  0.44750000 X2 =  0.25145833 X3 = -2.27489583\n",
            "iteration: 3| X1 =  0.28477083 X2 =  0.20864062 X3 = -2.19924392\n",
            "iteration: 4| X1 =  0.33872552 X2 =  0.18430334 X3 = -2.20506018\n",
            "iteration: 5| X1 =  0.34010322 X2 =  0.18755590 X3 = -2.20714569\n",
            "Converged!\n",
            "Result:\n",
            "X1 = 0.34010322482638883\n",
            "X2 = 0.18755589518229154\n",
            "X1 = -2.207145689199942\n",
            "\n",
            "=============================\n",
            "Equation 2\n",
            "Not Diagonally Dominant\n",
            "\n",
            "=============================\n",
            "Equation 3\n",
            "Diagonally Dominant\n",
            "iteration: 1| X1 =  0.90000000 X2 = -0.81111111 X3 = -0.16470588 X4 =  1.63006536\n",
            "iteration: 2| X1 =  0.54385621 X2 = -1.32866376 X3 =  0.05124183 X4 =  1.54717502\n",
            "iteration: 3| X1 =  0.22029557 X2 = -1.37010885 X3 = -0.12052561 X4 =  1.58236121\n",
            "iteration: 4| X1 =  0.25110326 X2 = -1.40582932 X3 = -0.09774877 X4 =  1.58351919\n",
            "iteration: 5| X1 =  0.22640997 X2 = -1.40925622 X3 = -0.10909667 X4 =  1.58531813\n",
            "Not Converged\n",
            "\n"
          ]
        }
      ]
    },
    {
      "cell_type": "markdown",
      "source": [
        "![image.png](data:image/png;base64,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)"
      ],
      "metadata": {
        "id": "rUuGl1hC99cc"
      }
    },
    {
      "cell_type": "code",
      "source": [
        "# SOAL 3  \n",
        "# LEAST SQUARE REGRESSION\n",
        "\n",
        "lx = [1, 5, 7, 2, 3, 9, 10, 4, 6, 8]\n",
        "ly = [34, 51, 80, 25, 90, 76, 100, 11, 45, 62]\n",
        "\n",
        "lx = np.array(lx)\n",
        "ly = np.array(ly)\n",
        "\n",
        "A = np.vstack([lx, np.ones(len(lx))]).T\n",
        "Y = np.vstack(ly)\n",
        "beta = np.dot(np.dot(np.linalg.inv(np.dot(A.T, A)), A.T), Y)\n",
        "print(beta)\n",
        "\n",
        "# [[ 6.13333333] -> m\n",
        " # [23.66666667]] -> c\n",
        "m = beta[0]\n",
        "c = beta[1]\n",
        "\n",
        "# y = mx + c\n",
        "y = m * lx + c\n",
        "plt.figure(figsize = (12, 8))\n",
        "plt.plot(lx, ly, 'go', label = \"(x,y) point\")\n",
        "plt.plot(lx, y, '-b',  label = \"Least Square Regression\")\n",
        "plt.title('The Best Linear Square Regression')\n",
        "plt.xlabel('X')\n",
        "plt.ylabel('Y')\n",
        "plt.legend(loc=\"upper left\")\n",
        "plt.show()"
      ],
      "metadata": {
        "colab": {
          "base_uri": "https://localhost:8080/",
          "height": 494
        },
        "id": "uyZi9f0i9LSX",
        "outputId": "4beaf271-f03b-419b-d5eb-e8139262cfad"
      },
      "execution_count": null,
      "outputs": [
        {
          "output_type": "stream",
          "name": "stdout",
          "text": [
            "[[ 6.13333333]\n",
            " [23.66666667]]\n"
          ]
        },
        {
          "output_type": "display_data",
          "data": {
            "text/plain": [
              "<Figure size 864x576 with 1 Axes>"
            ],
            "image/png": "[encoded data removed]"
          },
          "metadata": {
            "needs_background": "light"
          }
        }
      ]
    },
    {
      "cell_type": "code",
      "source": [
        "# SOAL 4\n",
        "# NEWTON RHAPSON\n",
        "\n",
        "from sympy import *\n",
        "\n",
        "x = symbols('x')\n",
        "f1 = lambda x: 7*x**4 - 3*x**2 + x\n",
        "df1 = diff(f1(x), x)\n",
        "df1 = lambdify(x, df1, 'numpy')\n",
        "\n",
        "f2 = lambda x: 8*x**6 + 5*x**4 - 2 \n",
        "df2 = diff(f2(x), x)\n",
        "df2 = lambdify(x, df2, 'numpy')\n",
        "\n",
        "def newton_raphson(f, df, x0, tolerance, max):\n",
        "  if max==0:\n",
        "    print('Max Iteration Reached!')\n",
        "    return False\n",
        "\n",
        "  if np.abs(f(x0)) < tolerance:\n",
        "    print(f'{f1}')\n",
        "    print(f2)\n",
        "    print(df1)\n",
        "    print(df2)\n",
        "    print(x0)\n",
        "    return True\n",
        "  else:\n",
        "    xNew = x0 - (f(x0)/ df(x0))\n",
        "    return newton_raphson(f, df, xNew, tolerance, max-1)\n",
        "\n",
        "newton_raphson(f1, df1, 1, 0.006541, 5)\n",
        "\n",
        "newton_raphson(f2, df2, 1, 0.006541, 5)"
      ],
      "metadata": {
        "id": "AgyS6Q37MbYN",
        "colab": {
          "base_uri": "https://localhost:8080/"
        },
        "outputId": "b82fd6d3-2521-4d5a-937b-cd5fcf0e24d0"
      },
      "execution_count": null,
      "outputs": [
        {
          "output_type": "stream",
          "name": "stdout",
          "text": [
            "Max Iteration Reached!\n",
            "<function <lambda> at 0x7f63d9188e50>\n",
            "0.6903195287760319\n"
          ]
        },
        {
          "output_type": "execute_result",
          "data": {
            "text/plain": [
              "True"
            ]
          },
          "metadata": {},
          "execution_count": 4
        }
      ]
    },
    {
      "cell_type": "code",
      "source": [
        "# SOAL 5\n",
        "# RIEMANN\n",
        "\n",
        "def f(x):\n",
        "  return 3*x**4 - 7*x**2 + 5"
      ],
      "metadata": {
        "id": "y6_rXXB7xsDt"
      },
      "execution_count": null,
      "outputs": []
    },
    {
      "cell_type": "code",
      "source": [
        "a = -4\n",
        "b = 3\n",
        "n = 30\n",
        "\n",
        "boxWidth = (b-a)/(n-1)\n",
        "\n",
        "x = np.linspace(a, b, n)\n",
        "\n",
        "#Left Riemann\n",
        "xLeft = x[ :-1]\n",
        "yLeft = f(xLeft)\n",
        "leftRiemann = boxWidth * np.sum(np.abs(yLeft))\n",
        "print(\"Left Riemann:\", leftRiemann)\n",
        "\n",
        "\n",
        "#Right Riemann\n",
        "xRight = x[1:]\n",
        "yRight = f(xRight)\n",
        "rightRiemann = boxWidth * np.sum(np.abs(yRight))\n",
        "print(\"Right Riemann:\", rightRiemann)\n",
        "\n",
        "#Mid Riemann\n",
        "xMid = (xLeft + xRight)/2\n",
        "yMid = f(xMid)\n",
        "midRiemann = boxWidth * np.sum(np.abs(yMid))\n",
        "print(\"Mid Point Riemann:\", midRiemann)\n",
        "\n",
        "#Trapezoid\n",
        "trapezoid = np.sum(np.abs(yLeft) + np.abs(yRight))/2 * boxWidth\n",
        "print(\"Trapezoid:\", trapezoid)\n"
      ],
      "metadata": {
        "colab": {
          "base_uri": "https://localhost:8080/"
        },
        "id": "ex40Rl2Ax62I",
        "outputId": "a776e326-8980-4223-b7ad-b5affef61bb1"
      },
      "execution_count": null,
      "outputs": [
        {
          "output_type": "stream",
          "name": "stdout",
          "text": [
            "Left Riemann: 645.1387652149571\n",
            "Right Riemann: 530.2422134908192\n",
            "Mid Point Riemann: 580.4556464297783\n",
            "Trapezoid: 587.690489352888\n"
          ]
        }
      ]
    }
  ]
}