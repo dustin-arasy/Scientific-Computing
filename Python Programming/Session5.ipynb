{
  "nbformat": 4,
  "nbformat_minor": 0,
  "metadata": {
    "colab": {
      "provenance": []
    },
    "kernelspec": {
      "name": "python3",
      "display_name": "Python 3"
    },
    "language_info": {
      "name": "python"
    }
  },
  "cells": [
    {
      "cell_type": "code",
      "execution_count": null,
      "metadata": {
        "id": "p0vSNN7CbWC9"
      },
      "outputs": [],
      "source": [
        "import numpy as np"
      ]
    },
    {
      "cell_type": "code",
      "source": [
        "def f(x):\n",
        "  return 6*x**2 - 4*x + 2"
      ],
      "metadata": {
        "id": "6qUWQZzRdlWr"
      },
      "execution_count": null,
      "outputs": []
    },
    {
      "cell_type": "code",
      "source": [
        "a = 2\n",
        "b = 3\n",
        "n = 6\n",
        "\n",
        "boxWidth = (b-a)/(n-1)\n",
        "# print(boxWidth)\n",
        "\n",
        "x = np.linspace(a, b, n)\n",
        "\n",
        "xLeft = x[ :-1]\n",
        "\n",
        "yLeft = f(xLeft)\n",
        "\n",
        "# (P1 * L) + (P2 * L) + (P3 * L) + ...\n",
        "# L * (Jumlah semua panjang)\n",
        "leftRiemann = boxWidth * np.sum(yLeft)\n",
        "print(\"Left Riemann\", leftRiemann)\n",
        "\n",
        "#Right Riemann\n",
        "xRight = x[1:]\n",
        "yRight = f(xRight)\n",
        "rightRiemann = boxWidth * np.sum(np.abs(yRight))\n",
        "print(\"Right Riemann:\", rightRiemann)\n",
        "\n",
        "xMid = (xLeft + xRight)/2\n",
        "yMid = f(xMid)\n",
        "midRiemann = boxWidth * np.sum(np.abs(yMid))\n",
        "print(\"Mid Point Riemann:\", midRiemann)\n",
        "\n",
        "trapezoid = np.sum(np.abs(yLeft) + np.abs(yRight))/2 * boxWidth\n",
        "print(\"Trapezoid:\", trapezoid)"
      ],
      "metadata": {
        "colab": {
          "base_uri": "https://localhost:8080/"
        },
        "id": "kwp5jKTKbgKQ",
        "outputId": "eeba8b12-b172-4c1f-ca62-b572ba0206d0"
      },
      "execution_count": null,
      "outputs": [
        {
          "output_type": "stream",
          "name": "stdout",
          "text": [
            "Left Riemann 27.439999999999998\n",
            "Right Riemann: 32.64\n",
            "Mid Point Riemann: 29.980000000000004\n",
            "Trapezoid: 30.04\n"
          ]
        }
      ]
    }
  ]
}