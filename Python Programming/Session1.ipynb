{
  "nbformat": 4,
  "nbformat_minor": 0,
  "metadata": {
    "colab": {
      "provenance": []
    },
    "kernelspec": {
      "name": "python3",
      "display_name": "Python 3"
    },
    "language_info": {
      "name": "python"
    }
  },
  "cells": [
    {
      "cell_type": "markdown",
      "source": [
        "**Basic Python**"
      ],
      "metadata": {
        "id": "ISh01lf1SX40"
      }
    },
    {
      "cell_type": "code",
      "source": [
        "# ctrl + / -> comment\n",
        "# ctrl + enter -> run\n",
        "print(\"Hello World\", end=\" \")\n",
        "print(\"kedua\")\n",
        "\n",
        "name = \"Dustin\"\n",
        "lastName = \"Bijou Arasy\"\n",
        "\n",
        "umur = 10\n",
        "# name = input()\n",
        "print(name + \" \" + lastName)\n",
        "\n",
        "print(\"Umur: \" + format(umur, \"d\"))\n",
        "print(f\"Nama: {name}, umur: {umur}\")"
      ],
      "metadata": {
        "colab": {
          "base_uri": "https://localhost:8080/"
        },
        "id": "6L7GRqglNt-4",
        "outputId": "4a2c6a8d-dfbe-4c80-be4f-e61659da761a"
      },
      "execution_count": null,
      "outputs": [
        {
          "output_type": "stream",
          "name": "stdout",
          "text": [
            "Hello World kedua\n",
            "Dustin Bijou Arasy\n",
            "Umur: 10\n",
            "Nama: Dustin, umur: 10\n"
          ]
        }
      ]
    },
    {
      "cell_type": "markdown",
      "source": [
        "**Operator**"
      ],
      "metadata": {
        "id": "SlQKa9P5Sk7M"
      }
    },
    {
      "cell_type": "code",
      "source": [
        "# + - * / += -=\n",
        "# gak ada ++ --\n",
        "# ** //\n",
        "\n",
        "print(7%4)\n",
        "print(format(5/3, \".2f\"))\n",
        "print(5//3)\n",
        "\n",
        "print(6**3)"
      ],
      "metadata": {
        "colab": {
          "base_uri": "https://localhost:8080/"
        },
        "id": "z1DrpfofNyen",
        "outputId": "6dfece53-8c51-4da0-9585-69ba1713dd75"
      },
      "execution_count": null,
      "outputs": [
        {
          "output_type": "stream",
          "name": "stdout",
          "text": [
            "3\n",
            "1.67\n",
            "1\n",
            "216\n",
            "0.2999999999999998\n"
          ]
        }
      ]
    },
    {
      "cell_type": "markdown",
      "source": [
        "**Selection & Repetition**"
      ],
      "metadata": {
        "id": "sLDM952wUJdk"
      }
    },
    {
      "cell_type": "code",
      "source": [
        "# a = 10\n",
        "# b = 11\n",
        "\n",
        "# if(a == b):\n",
        "#   print(\"a = b\")\n",
        "\n",
        "# elif(a < b):\n",
        "#   print(\"a < b\")\n",
        "\n",
        "# else:\n",
        "#   print(\"a != b\")\n",
        "\n",
        "# print(\"luar\")\n",
        "\n",
        "for i in range(0, 10, 2):\n",
        "  print(i, end=\" \")\n",
        "\n",
        "print()\n",
        "\n",
        "a = 10\n",
        "while a>2:\n",
        "  print(a, end=\" \")\n",
        "  a-= 1"
      ],
      "metadata": {
        "colab": {
          "base_uri": "https://localhost:8080/"
        },
        "id": "MsZAjHbuUJF_",
        "outputId": "a5f1d54a-d513-467e-d0c0-0dbec7ec67a5"
      },
      "execution_count": null,
      "outputs": [
        {
          "output_type": "stream",
          "name": "stdout",
          "text": [
            "0 2 4 6 8 \n",
            "10 9 8 7 6 5 4 3 "
          ]
        }
      ]
    },
    {
      "cell_type": "markdown",
      "source": [
        "**Function**"
      ],
      "metadata": {
        "id": "R03M_U7OW7Kv"
      }
    },
    {
      "cell_type": "code",
      "source": [
        "def kalkulator(a, b):\n",
        "  print(f\"menghitung {a} {b}\")\n",
        "  pertambahan  = a + b\n",
        "\n",
        "  if(a == 0):\n",
        "    return 0\n",
        "  \n",
        "  kalkulator(a-1, b)\n",
        "  # return pertambahan, a-b, a*b, a//b\n",
        "\n",
        "kalkulator(5, 7)\n",
        "# plus, minus, multi, bagi = kalkulator(5, 3)\n",
        "# print(f\"plus: {plus}, minus: {minus}, multi: {multi}, bagi: {bagi}\")"
      ],
      "metadata": {
        "colab": {
          "base_uri": "https://localhost:8080/"
        },
        "id": "7wtu9qkiXEf_",
        "outputId": "7eaf0918-f4ab-4b6f-9c53-b4559b52f470"
      },
      "execution_count": null,
      "outputs": [
        {
          "output_type": "stream",
          "name": "stdout",
          "text": [
            "menghitung 5 7\n",
            "menghitung 4 7\n",
            "menghitung 3 7\n",
            "menghitung 2 7\n",
            "menghitung 1 7\n",
            "menghitung 0 7\n"
          ]
        }
      ]
    },
    {
      "cell_type": "markdown",
      "source": [
        "**Numpy**"
      ],
      "metadata": {
        "id": "Inxoc_RiZiEo"
      }
    },
    {
      "cell_type": "code",
      "source": [
        "import numpy as np"
      ],
      "metadata": {
        "id": "YnlIa2CHZiOV"
      },
      "execution_count": null,
      "outputs": []
    },
    {
      "cell_type": "code",
      "source": [
        "listAngka = [1,2,3,4,5,6,7,8,9]\n",
        "\n",
        "array1 = [\n",
        "    [1,2],\n",
        "    [3,4]\n",
        "  ]\n",
        "\n",
        "array2 = [\n",
        "    [2,3],\n",
        "    [5,7]\n",
        "]\n",
        "\n",
        "print(array1 + array2)\n",
        "\n",
        "matrix1 = np.array(array1)\n",
        "matrix2 = np.array(array2)\n",
        "\n",
        "print(matrix1 * matrix2)\n",
        "print(np.dot(matrix1, matrix2))\n",
        "\n",
        "print(listAngka)"
      ],
      "metadata": {
        "colab": {
          "base_uri": "https://localhost:8080/"
        },
        "id": "mWz7EEQ2ZoYe",
        "outputId": "0432e482-5b0c-4f14-f180-d218494d0ccc"
      },
      "execution_count": null,
      "outputs": [
        {
          "output_type": "stream",
          "name": "stdout",
          "text": [
            "[[1, 2], [3, 4], [2, 3], [5, 7]]\n",
            "[[ 2  6]\n",
            " [15 28]]\n",
            "[[12 17]\n",
            " [26 37]]\n",
            "[1, 2, 3, 4, 5, 6, 7, 8, 9]\n"
          ]
        }
      ]
    },
    {
      "cell_type": "code",
      "source": [
        "listAngka = np.array(listAngka)\n",
        "\n",
        "print(listAngka[3:7])"
      ],
      "metadata": {
        "colab": {
          "base_uri": "https://localhost:8080/"
        },
        "id": "_1owAuVwdXKQ",
        "outputId": "5552050e-5024-458e-ceba-72cd1a5b547a"
      },
      "execution_count": null,
      "outputs": [
        {
          "output_type": "stream",
          "name": "stdout",
          "text": [
            "[4 5 6 7]\n"
          ]
        }
      ]
    }
  ]
}