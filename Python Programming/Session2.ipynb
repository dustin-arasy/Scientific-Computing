{
  "nbformat": 4,
  "nbformat_minor": 0,
  "metadata": {
    "colab": {
      "provenance": []
    },
    "kernelspec": {
      "name": "python3",
      "display_name": "Python 3"
    },
    "language_info": {
      "name": "python"
    }
  },
  "cells": [
    {
      "cell_type": "code",
      "execution_count": null,
      "metadata": {
        "id": "ekqiSF-nO8h1"
      },
      "outputs": [],
      "source": [
        "import numpy as np"
      ]
    },
    {
      "cell_type": "code",
      "source": [
        "a = [[6, 3, 2],\n",
        "     [2, 7, 3],\n",
        "     [7, 5, 15]]\n",
        "\n",
        "print(np.diag(a))\n",
        "print(np.sum(np.abs(a), axis=1))\n",
        "print(np.sum(np.abs(a), axis=1) - np.diag(a))\n",
        "\n",
        "def checkDiagonallyDominant(a):\n",
        "  diag = np.diag(a)\n",
        "  sumWithDiag = np.sum(np.abs(a), axis=1)\n",
        "  sumWithoutDiag = sumWithDiag - diag\n",
        "\n",
        "  if np.all(diag > sumWithoutDiag):\n",
        "    print(\"True\")\n",
        "  else:\n",
        "    print(\"False\")\n",
        "\n",
        "checkDiagonallyDominant(a)"
      ],
      "metadata": {
        "colab": {
          "base_uri": "https://localhost:8080/"
        },
        "id": "t0zKgtFQR0Gx",
        "outputId": "9505847f-68c6-47d2-8a6e-38bd7569c671"
      },
      "execution_count": null,
      "outputs": [
        {
          "output_type": "stream",
          "name": "stdout",
          "text": [
            "[ 6  7 15]\n",
            "[11 12 27]\n",
            "[ 5  5 12]\n",
            "True\n"
          ]
        }
      ]
    },
    {
      "cell_type": "code",
      "source": [
        "a = 0\n",
        "b = 0\n",
        "c = 0\n",
        "epsilon = 0.1\n",
        "limit = 15\n",
        "isCompleted = False\n",
        "\n",
        "oldValue = np.array([a, b, c])\n",
        "\n",
        "for i in range(1, limit):\n",
        "  a = (15 - 3*b - 2*c)/6\n",
        "  b = (6 - 2*a - 3*c)/7\n",
        "  c = (12 - 7*a - 5*b)/15\n",
        "  newValue = np.array([a, b, c])\n",
        "\n",
        "  distance = np.sqrt(np.dot(newValue-oldValue, newValue-oldValue))\n",
        "\n",
        "  print(a, b, c)\n",
        "  if distance < epsilon:\n",
        "    print(\"Solution Found\")\n",
        "    isCompleted = True\n",
        "    break\n",
        "\n",
        "  oldValue = newValue\n",
        "\n",
        "if isCompleted == False:\n",
        "  print(\"No Solution\")"
      ],
      "metadata": {
        "colab": {
          "base_uri": "https://localhost:8080/"
        },
        "id": "iuoDkXdKU4Ho",
        "outputId": "64330644-6a61-4db3-fcc5-6738b17840e4"
      },
      "execution_count": null,
      "outputs": [
        {
          "output_type": "stream",
          "name": "stdout",
          "text": [
            "2.5 0.14285714285714285 -0.4142857142857143\n",
            "2.566666666666667 0.30136054421768704 -0.49823129251700693\n",
            "2.5153968253968255 0.3519857466796243 -0.49118043407839324\n",
            "Solution Found\n"
          ]
        }
      ]
    },
    {
      "cell_type": "code",
      "source": [
        "CaseX = [\n",
        "  [\n",
        "    [-3,9,-6],\n",
        "    [7,-2,-3],\n",
        "    [4,1,-4]\n",
        "  ],\n",
        "  [\n",
        "    [1, 3, -3, 9],\n",
        "    [2, -9,3, -3],\n",
        "    [-1, 3, 15, -1],\n",
        "   [21, 4, -1, 10]\n",
        "  ],\n",
        "  [\n",
        "    [4,2,-1],\n",
        "    [1,3,-1],\n",
        "    [5,2,10]\n",
        "  ],\n",
        "  [\n",
        "    [-7,2,-4],\n",
        "    [-1,-19,-13],\n",
        "    [-3,3,-19]\n",
        "  ],\n",
        "  [\n",
        "    [-12, 1, -4, 6],\n",
        "    [-3, 8,-3, 2],\n",
        "    [3, 3, 10, -3],\n",
        "    [3, -2, 3, 12]\n",
        "  ],\n",
        "  [\n",
        "    [2,1,-1],\n",
        "    [-2,5,-3],\n",
        "    [-1,-6,-9]\n",
        "  ]\n",
        "]\n",
        "CaseY=[\n",
        "   [0, -6, 5],\n",
        "   [12, 9, -6, 11],\n",
        "   [19, 12, 5],\n",
        "   [8, 3, 5],\n",
        "   [3, 6, 9, 21],\n",
        "   [3, 9, 12]\n",
        "]"
      ],
      "metadata": {
        "id": "YQzMlm4VYkop"
      },
      "execution_count": null,
      "outputs": []
    },
    {
      "cell_type": "code",
      "source": [
        "def gaussSeidel(x, y, epsilon, limit):\n",
        "  x = np.array(x)\n",
        "  y = np.array(y)\n",
        "\n",
        "  diag = np.diag(x)\n",
        "  sumWithDiag = np.sum(np.abs(x), axis=1)\n",
        "  sumWithoutDiag = sumWithDiag - diag\n",
        "\n",
        "  if np.all(diag > sumWithoutDiag):\n",
        "    print(\"True\")\n",
        "  else:\n",
        "    print(\"False\")\n",
        "    return False\n",
        "\n",
        "  diagonal = np.diag(x)\n",
        "  x = -x\n",
        "  np.fill_diagonal(x, 0)\n",
        "  oldValue = np.zeros(x.shape[0])\n",
        "\n",
        "  for i in range(0, limit):\n",
        "    newValue = oldValue\n",
        "    for j, row in enumerate(x):\n",
        "      newValue[j] = (y[j] + np.dot(row, newValue))/diagonal[j]\n",
        "    newValue = np.array(newValue)\n",
        "\n",
        "    distance = np.sqrt(np.dot(newValue-oldValue, newValue-oldValue))\n",
        "\n",
        "    if distance < epsilon:\n",
        "      print(\"Solution Found\")\n",
        "      return True\n",
        "\n",
        "    oldValue = newValue\n",
        "\n",
        "  return False\n",
        "  "
      ],
      "metadata": {
        "id": "1x_Z8yuRY6bX"
      },
      "execution_count": null,
      "outputs": []
    },
    {
      "cell_type": "code",
      "source": [],
      "metadata": {
        "id": "ST7VsyF5h2kb"
      },
      "execution_count": null,
      "outputs": []
    },
    {
      "cell_type": "code",
      "source": [
        "for i, (x,y) in enumerate(zip(CaseX, CaseY)):\n",
        "  if gaussSeidel(x, y, 0.01, 15):\n",
        "    print(\"Solution Found\")\n",
        "  else:\n",
        "    print(\"Solution Not Found\")"
      ],
      "metadata": {
        "colab": {
          "base_uri": "https://localhost:8080/"
        },
        "id": "fWTNXg6hd2fE",
        "outputId": "3811ccde-6380-4697-c573-0b0372fd2930"
      },
      "execution_count": null,
      "outputs": [
        {
          "output_type": "stream",
          "name": "stdout",
          "text": [
            "False\n",
            "Solution Not Found\n",
            "False\n",
            "Solution Not Found\n",
            "True\n",
            "Solution Found\n",
            "Solution Found\n",
            "False\n",
            "Solution Not Found\n",
            "False\n",
            "Solution Not Found\n",
            "False\n",
            "Solution Not Found\n"
          ]
        }
      ]
    },
    {
      "cell_type": "code",
      "source": [
        "temp = [\n",
        "    [-3,9,-6],\n",
        "    [7,-2,-3],\n",
        "    [4,1,-4]\n",
        "]\n",
        "\n",
        "temp = np.array(temp)\n",
        "print(temp.shape[0])"
      ],
      "metadata": {
        "id": "F-ipCW_eaqFW",
        "colab": {
          "base_uri": "https://localhost:8080/"
        },
        "outputId": "73d9e04c-5e0c-4055-8876-347a764c414c"
      },
      "execution_count": null,
      "outputs": [
        {
          "output_type": "stream",
          "name": "stdout",
          "text": [
            "3\n"
          ]
        }
      ]
    }
  ]
}