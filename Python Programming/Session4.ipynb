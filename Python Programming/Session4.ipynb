{
  "nbformat": 4,
  "nbformat_minor": 0,
  "metadata": {
    "colab": {
      "provenance": []
    },
    "kernelspec": {
      "name": "python3",
      "display_name": "Python 3"
    },
    "language_info": {
      "name": "python"
    }
  },
  "cells": [
    {
      "cell_type": "markdown",
      "source": [
        "##Bisection\n",
        "##Newton Rhapson"
      ],
      "metadata": {
        "id": "EasqB9fiYu9i"
      }
    },
    {
      "cell_type": "code",
      "source": [
        "import numpy as np"
      ],
      "metadata": {
        "id": "rYyKlVnMbjVX"
      },
      "execution_count": null,
      "outputs": []
    },
    {
      "cell_type": "code",
      "execution_count": null,
      "metadata": {
        "id": "f57dr2tpYQ_m"
      },
      "outputs": [],
      "source": [
        "def bisection(f, a, b, tolerance):\n",
        "  #apakah tanda dari f(a) = tanda dari f(b)\n",
        "  #np.sign() -> -1 (negatif), 0, 1 (positif)\n",
        "  if np.sign(f(a)) == np.sign(f(b)):\n",
        "    print('No Answer')\n",
        "    return\n",
        "  \n",
        "  mid = (a+b)/2\n",
        "  \n",
        "  #apakah f(mid) < tolerance\n",
        "  #apakah tanda dari f(mid) == tanda f(a) atau f(b)\n",
        "  if np.abs(f(mid)) < tolerance:\n",
        "    return mid\n",
        "  elif np.sign(f(a)) == np.sign(f(mid)):\n",
        "    #Root value ada diantara mid dan b\n",
        "    return bisection(f, mid, b, tolerance)\n",
        "  elif np.sign(f(b)) == np.sign(f(mid)):\n",
        "    #Root value ada diantara a dan mid\n",
        "    return bisection(f, a, mid, tolerance)"
      ]
    },
    {
      "cell_type": "code",
      "source": [
        "f = lambda x : x**2-3\n",
        "a = -1\n",
        "b = 4\n",
        "tolerance = 0.01\n",
        "print(bisection(f, a, b, tolerance))"
      ],
      "metadata": {
        "colab": {
          "base_uri": "https://localhost:8080/"
        },
        "id": "NyyQr8NXdN8P",
        "outputId": "219b5376-b4c3-4847-9c5f-5138f10e3134"
      },
      "execution_count": null,
      "outputs": [
        {
          "output_type": "stream",
          "name": "stdout",
          "text": [
            "1.734375\n"
          ]
        }
      ]
    },
    {
      "cell_type": "code",
      "source": [
        "def newton_raphson(f, df, x0, tolerance, max):\n",
        "  if max<=0:\n",
        "    print(\"No Answer\")\n",
        "    return\n",
        "\n",
        "  #apakah f(x0) -> root value atau tidak\n",
        "  if np.abs(f(x0)) < tolerance:\n",
        "    return x0\n",
        "  else:\n",
        "    x1 = x0 - (f(x0)/ df(x0))\n",
        "    return newton_raphson(f, df, x1, tolerance, max-1)"
      ],
      "metadata": {
        "id": "YL_8s3Y3gkFy"
      },
      "execution_count": null,
      "outputs": []
    },
    {
      "cell_type": "code",
      "source": [
        "f = lambda x : x**2-3\n",
        "df = lambda x : 2*x\n",
        "x0 = 1\n",
        "tolerance = 0.01\n",
        "max = 5\n",
        "print(newton_raphson(f, df, x0, tolerance, max))"
      ],
      "metadata": {
        "colab": {
          "base_uri": "https://localhost:8080/"
        },
        "id": "TJM1MdcfhThP",
        "outputId": "8d9eab02-4b32-4374-95f1-33ae3a898f8f"
      },
      "execution_count": null,
      "outputs": [
        {
          "output_type": "stream",
          "name": "stdout",
          "text": [
            "1.7321428571428572\n"
          ]
        }
      ]
    }
  ]
}